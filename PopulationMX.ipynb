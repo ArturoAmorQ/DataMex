{
 "cells": [
  {
   "cell_type": "markdown",
   "id": "86257651",
   "metadata": {},
   "source": [
    "# Population in Mexico"
   ]
  },
  {
   "cell_type": "markdown",
   "id": "90f004c1",
   "metadata": {},
   "source": [
    "In this notebook we capture by hand the population growth at national and capital city in the period between 1930 and 2020. Afterwards, we do similarly for the instanteneous population per state during 2020. The pandas dataframes can then be saved to your local folder as an excel or csv file."
   ]
  },
  {
   "cell_type": "code",
   "execution_count": null,
   "id": "2e028400",
   "metadata": {},
   "outputs": [],
   "source": [
    "import pandas as pd"
   ]
  },
  {
   "cell_type": "code",
   "execution_count": null,
   "id": "9b42650e",
   "metadata": {},
   "outputs": [],
   "source": [
    "# Population is given in millions of people\n",
    "\n",
    "population = pd.DataFrame(columns=['date','national','cdmx'])\n",
    "population = population.append({'date': 1930, 'national': 16.5,'cdmx' : 1.2}, ignore_index=True)\n",
    "population = population.append({'date': 1940, 'national': 19.4,'cdmx' : 1.8}, ignore_index=True)\n",
    "population = population.append({'date': 1950, 'national': 25.8,'cdmx' : 3.1}, ignore_index=True)\n",
    "population = population.append({'date': 1960, 'national': 34.9,'cdmx' : 4.9}, ignore_index=True)\n",
    "population = population.append({'date': 1970, 'national': 48.2,'cdmx' : 6.9}, ignore_index=True)\n",
    "population = population.append({'date': 1980, 'national': 66.8,'cdmx' : 8.8}, ignore_index=True)\n",
    "population = population.append({'date': 1990, 'national': 81.2,'cdmx' : 8.2}, ignore_index=True)\n",
    "population = population.append({'date': 2000, 'national': 97.5,'cdmx' : 8.6}, ignore_index=True)\n",
    "population = population.append({'date': 2010, 'national': 112.3,'cdmx' : 8.9}, ignore_index=True)\n",
    "population = population.append({'date': 2020, 'national': 126.0,'cdmx' : 9.2}, ignore_index=True)\n",
    "population.head()"
   ]
  },
  {
   "cell_type": "code",
   "execution_count": null,
   "id": "f9e02a2a",
   "metadata": {},
   "outputs": [],
   "source": [
    "# Population per state in 2020 by state\n",
    "# Creating a dataframe for population growth per state is beyond the scope of this study\n",
    "\n",
    "population2020 = pd.DataFrame(columns=['state','people'])\n",
    "population2020 = population2020.append({'state': 'AGUASCALIENTES', 'people': 1425607}, ignore_index=True)\n",
    "population2020 = population2020.append({'state': 'BAJA CALIFORNIA', 'people': 3769020}, ignore_index=True)\n",
    "population2020 = population2020.append({'state': 'BAJA CALIFORNIA SUR', 'people': 798447}, ignore_index=True)\n",
    "population2020 = population2020.append({'state': 'CAMPECHE', 'people': 928363}, ignore_index=True)\n",
    "population2020 = population2020.append({'state': 'COAHUILA', 'people': 3146771}, ignore_index=True)\n",
    "population2020 = population2020.append({'state': 'COLIMA', 'people': 731391}, ignore_index=True)\n",
    "population2020 = population2020.append({'state': 'CHIAPAS', 'people': 5543828}, ignore_index=True)\n",
    "population2020 = population2020.append({'state': 'CHIHUAHUA', 'people': 3741869}, ignore_index=True)\n",
    "population2020 = population2020.append({'state': 'CIUDAD DE MEXICO', 'people': 9209944}, ignore_index=True)\n",
    "population2020 = population2020.append({'state': 'DURANGO', 'people': 1832650}, ignore_index=True)\n",
    "population2020 = population2020.append({'state': 'GUANAJUATO', 'people': 6166934}, ignore_index=True)\n",
    "population2020 = population2020.append({'state': 'GUERRERO', 'people': 3540685}, ignore_index=True)\n",
    "population2020 = population2020.append({'state': 'HIDALGO', 'people': 3082841}, ignore_index=True)\n",
    "population2020 = population2020.append({'state': 'JALISCO', 'people': 8348151}, ignore_index=True)\n",
    "population2020 = population2020.append({'state': 'MEXICO', 'people': 16992418}, ignore_index=True)\n",
    "population2020 = population2020.append({'state': 'MICHOACAN', 'people': 4748846}, ignore_index=True)\n",
    "population2020 = population2020.append({'state': 'MORELOS', 'people': 1971520}, ignore_index=True)\n",
    "population2020 = population2020.append({'state': 'NAYARIT', 'people': 1235456}, ignore_index=True)\n",
    "population2020 = population2020.append({'state': 'NUEVO LEON', 'people': 5784442}, ignore_index=True)\n",
    "population2020 = population2020.append({'state': 'OAXACA', 'people': 4132148}, ignore_index=True)\n",
    "population2020 = population2020.append({'state': 'PUEBLA', 'people': 6583278}, ignore_index=True)\n",
    "population2020 = population2020.append({'state': 'QUERETARO', 'people': 2368467}, ignore_index=True)\n",
    "population2020 = population2020.append({'state': 'QUINTANA ROO', 'people': 1857985}, ignore_index=True)\n",
    "population2020 = population2020.append({'state': 'SAN LUIS POTOSI', 'people': 2822255}, ignore_index=True)\n",
    "population2020 = population2020.append({'state': 'SINALOA', 'people': 3026943}, ignore_index=True)\n",
    "population2020 = population2020.append({'state': 'SONORA', 'people': 2944840}, ignore_index=True)\n",
    "population2020 = population2020.append({'state': 'TABASCO', 'people': 2402598}, ignore_index=True)\n",
    "population2020 = population2020.append({'state': 'TAMAULIPAS', 'people': 3527735}, ignore_index=True)\n",
    "population2020 = population2020.append({'state': 'TLAXCALA', 'people': 1342977}, ignore_index=True)\n",
    "population2020 = population2020.append({'state': 'VERACRUZ', 'people': 8062579}, ignore_index=True)\n",
    "population2020 = population2020.append({'state': 'YUCATAN', 'people': 2320898}, ignore_index=True)\n",
    "population2020 = population2020.append({'state': 'ZACATECAS', 'people': 1622138}, ignore_index=True)\n",
    "population2020.head()"
   ]
  },
  {
   "cell_type": "markdown",
   "id": "3c6161e6",
   "metadata": {},
   "source": [
    "Uncomment and run the following piece of code to create an **Excel** file with the **population growth** dataframe."
   ]
  },
  {
   "cell_type": "code",
   "execution_count": null,
   "id": "d67a43a7",
   "metadata": {},
   "outputs": [],
   "source": [
    "#writer = pd.ExcelWriter('PopulationMex1930to2020.xlsx')\n",
    "#population.to_excel(writer, index=False)\n",
    "#writer.save()\n",
    "#print('DataFrame is written successfully to Excel File.')"
   ]
  },
  {
   "cell_type": "markdown",
   "id": "71cbb0e3",
   "metadata": {},
   "source": [
    "Uncomment and run the following piece of code to create an **csv** file with the **population growth** dataframe."
   ]
  },
  {
   "cell_type": "code",
   "execution_count": null,
   "id": "243d4ce9",
   "metadata": {},
   "outputs": [],
   "source": [
    "#population.to_csv('PopulationMex1930t02020.csv', index=False)\n",
    "#print('DataFrame is written successfully to csv File.')"
   ]
  },
  {
   "cell_type": "markdown",
   "id": "09d50cb2",
   "metadata": {},
   "source": [
    "Uncomment and run the following piece of code to create an **Excel** file with the **2020 population per state** dataframe."
   ]
  },
  {
   "cell_type": "code",
   "execution_count": null,
   "id": "c3583e0f",
   "metadata": {},
   "outputs": [],
   "source": [
    "#writer = pd.ExcelWriter('PopulationMexStates2020.xlsx')\n",
    "#population2020.to_excel(writer, index=False)\n",
    "#writer.save()\n",
    "#print('DataFrame is written successfully to Excel File.')"
   ]
  },
  {
   "cell_type": "markdown",
   "id": "4e18d2d6",
   "metadata": {},
   "source": [
    "Uncomment and run the following piece of code to create an **csv** file with the **2020 population per state** dataframe."
   ]
  },
  {
   "cell_type": "code",
   "execution_count": null,
   "id": "d781a031",
   "metadata": {},
   "outputs": [],
   "source": [
    "#population.to_csv('PopulationMexStates2020.csv', index=False)\n",
    "#print('DataFrame is written successfully to Excel File.')"
   ]
  },
  {
   "cell_type": "code",
   "execution_count": null,
   "id": "b53e0b5f",
   "metadata": {},
   "outputs": [],
   "source": []
  }
 ],
 "metadata": {
  "kernelspec": {
   "display_name": "Python 3 (ipykernel)",
   "language": "python",
   "name": "python3"
  },
  "language_info": {
   "codemirror_mode": {
    "name": "ipython",
    "version": 3
   },
   "file_extension": ".py",
   "mimetype": "text/x-python",
   "name": "python",
   "nbconvert_exporter": "python",
   "pygments_lexer": "ipython3",
   "version": "3.9.6"
  }
 },
 "nbformat": 4,
 "nbformat_minor": 5
}
